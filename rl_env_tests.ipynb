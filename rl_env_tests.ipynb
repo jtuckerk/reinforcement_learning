{
 "cells": [
  {
   "cell_type": "code",
   "execution_count": 1,
   "metadata": {
    "collapsed": false
   },
   "outputs": [],
   "source": [
    "#%matplotlib inline\n",
    "import matplotlib\n",
    "import matplotlib.pyplot as plt\n",
    "import numpy as np\n"
   ]
  },
  {
   "cell_type": "code",
   "execution_count": 2,
   "metadata": {
    "collapsed": false
   },
   "outputs": [],
   "source": [
    "circle = plt.Circle((0, 0), radius=1, fc='y')\n"
   ]
  },
  {
   "cell_type": "code",
   "execution_count": null,
   "metadata": {
    "collapsed": false
   },
   "outputs": [],
   "source": []
  },
  {
   "cell_type": "code",
   "execution_count": 3,
   "metadata": {
    "collapsed": false
   },
   "outputs": [
    {
     "data": {
      "text/plain": [
       "<module 'brain' from 'brain.pyc'>"
      ]
     },
     "execution_count": 3,
     "metadata": {},
     "output_type": "execute_result"
    }
   ],
   "source": [
    "#import summer_stuff.reinforcement_learning.env\n",
    "\n",
    "import env\n",
    "reload(env)\n",
    "import agent\n",
    "reload(agent)\n",
    "import sensors\n",
    "reload(sensors)\n",
    "import brain\n",
    "reload(brain)"
   ]
  },
  {
   "cell_type": "code",
   "execution_count": 4,
   "metadata": {
    "collapsed": false
   },
   "outputs": [],
   "source": [
    "b = env.env(10,10)\n",
    "b.load_from_yaml('test.yaml')\n",
    "a = agent.agent(x=2.5,y=4, ray_dist=1, ray_count=4, ray_width=70)"
   ]
  },
  {
   "cell_type": "code",
   "execution_count": 5,
   "metadata": {
    "collapsed": false
   },
   "outputs": [],
   "source": [
    "b.add_agent(a)"
   ]
  },
  {
   "cell_type": "code",
   "execution_count": 6,
   "metadata": {
    "collapsed": false
   },
   "outputs": [],
   "source": [
    "b.draw()"
   ]
  },
  {
   "cell_type": "code",
   "execution_count": null,
   "metadata": {
    "collapsed": false
   },
   "outputs": [],
   "source": []
  },
  {
   "cell_type": "code",
   "execution_count": null,
   "metadata": {
    "collapsed": false
   },
   "outputs": [],
   "source": [
    "import numpy as np\n",
    "angles = [(.5,1),(1,1),(1,.5),(1,0),(1,-.5),(1,-1),(.5,-1),(0,-1),(-.5,-1),(-1,-1),(-1,-.5),(-1,0),(-1,.5),(-1,1),(-.5,1),(0,1)]\n",
    "for a in angles:\n",
    "   a=1\n",
    "        \n",
    "    \n",
    "    "
   ]
  },
  {
   "cell_type": "code",
   "execution_count": null,
   "metadata": {
    "collapsed": false
   },
   "outputs": [],
   "source": [
    "import random\n",
    "import time\n",
    "b = env.env(10,10)\n",
    "a = agent.agent(x=8,y=3, ray_dist=2, ray_count=4)\n",
    "#b.load_from_yaml('test.yaml')\n",
    "#b.agents.append(a)\n",
    "for a in range(10):\n",
    "    b.add_random_polygon(1,.2,int(random.random()*7+3))\n",
    "    time.sleep(random.random()/((random.random()*100.0)))\n",
    "b.draw()\n"
   ]
  },
  {
   "cell_type": "code",
   "execution_count": null,
   "metadata": {
    "collapsed": false
   },
   "outputs": [],
   "source": [
    "a.sensor.sense_objects(b.objects)"
   ]
  },
  {
   "cell_type": "code",
   "execution_count": null,
   "metadata": {
    "collapsed": false
   },
   "outputs": [],
   "source": [
    "a = sensors.sensors.bounded_sensor(6,.2,1,0,0)"
   ]
  },
  {
   "cell_type": "code",
   "execution_count": null,
   "metadata": {
    "collapsed": false
   },
   "outputs": [],
   "source": [
    "(0-.2/2)%360"
   ]
  },
  {
   "cell_type": "code",
   "execution_count": null,
   "metadata": {
    "collapsed": false
   },
   "outputs": [],
   "source": [
    "l = [b for b in a.ray_visual_lines()]\n"
   ]
  },
  {
   "cell_type": "code",
   "execution_count": null,
   "metadata": {
    "collapsed": false
   },
   "outputs": [],
   "source": [
    "import yaml\n",
    "f = open('summer_stuff/reinforcement_learning/test.yaml')\n",
    "# use safe_load instead load\n",
    "dataMap = yaml.safe_load(f)\n",
    "f.close()\n",
    "print dataMap"
   ]
  },
  {
   "cell_type": "code",
   "execution_count": null,
   "metadata": {
    "collapsed": false
   },
   "outputs": [],
   "source": [
    "for a in dataMap['objects']:\n",
    "    print a[a.keys()[0]]"
   ]
  },
  {
   "cell_type": "code",
   "execution_count": null,
   "metadata": {
    "collapsed": false
   },
   "outputs": [],
   "source": [
    "#a = randomShape(1,1,5,10,10)\n",
    "#l  = a.get_sides_lines()\n",
    "import matplotlib.pyplot as plt\n",
    "fig, ax = plt.subplots()\n",
    "\n",
    "circle = plt.Circle((0, 0), radius=1, fc='y')\n",
    "\n",
    "\n",
    "line = plt.Polygon(l, fill=None, edgecolor='b')\n",
    "plt.gca().add_patch(line) \n",
    "\n",
    "\n",
    "\n",
    "#plt.axes(xlim=(0, 10), ylim=(0, 10))\n",
    "ax.axis('scaled')\n",
    "plt.show()\n",
    "\n"
   ]
  },
  {
   "cell_type": "code",
   "execution_count": null,
   "metadata": {
    "collapsed": false
   },
   "outputs": [],
   "source": [
    "line.([.5,1.5])"
   ]
  },
  {
   "cell_type": "code",
   "execution_count": null,
   "metadata": {
    "collapsed": true
   },
   "outputs": [],
   "source": []
  },
  {
   "cell_type": "code",
   "execution_count": null,
   "metadata": {
    "collapsed": true
   },
   "outputs": [],
   "source": [
    "l=[(0,0),(1,2),(3,4),(0,2)]"
   ]
  },
  {
   "cell_type": "code",
   "execution_count": null,
   "metadata": {
    "collapsed": false
   },
   "outputs": [],
   "source": [
    "\n",
    "plt.show()"
   ]
  },
  {
   "cell_type": "code",
   "execution_count": 334,
   "metadata": {
    "collapsed": false
   },
   "outputs": [
    {
     "data": {
      "text/plain": [
       "<matplotlib.patches.Rectangle at 0x111bd2190>"
      ]
     },
     "execution_count": 334,
     "metadata": {},
     "output_type": "execute_result"
    }
   ],
   "source": [
    "rectangle = plt.Rectangle((10, 10), 100, 100, fc='r')\n",
    "plt.gca().add_patch(rectangle)"
   ]
  },
  {
   "cell_type": "code",
   "execution_count": 339,
   "metadata": {
    "collapsed": false
   },
   "outputs": [
    {
     "data": {
      "text/plain": [
       "100"
      ]
     },
     "execution_count": 339,
     "metadata": {},
     "output_type": "execute_result"
    }
   ],
   "source": [
    "rectangle.get_height()"
   ]
  },
  {
   "cell_type": "code",
   "execution_count": null,
   "metadata": {
    "collapsed": false
   },
   "outputs": [],
   "source": [
    "line = plt.Polygon(l, closed=None, fill=None, edgecolor='r')"
   ]
  },
  {
   "cell_type": "code",
   "execution_count": null,
   "metadata": {
    "collapsed": true
   },
   "outputs": [],
   "source": [
    "polygon = plt.Polygon(l)\n",
    "plt.show()\n"
   ]
  },
  {
   "cell_type": "code",
   "execution_count": null,
   "metadata": {
    "collapsed": false
   },
   "outputs": [],
   "source": [
    "plt.gca().add_patch(polygon)"
   ]
  },
  {
   "cell_type": "code",
   "execution_count": null,
   "metadata": {
    "collapsed": false
   },
   "outputs": [],
   "source": [
    "import numpy as np\n",
    "from matplotlib import pyplot as plt\n",
    "from matplotlib import animation\n",
    "from matplotlib.patches import Polygon\n",
    "fig = plt.figure()\n",
    "fig.set_dpi(100)\n",
    "fig.set_size_inches(7, 6.5)\n",
    "\n",
    "ax = plt.axes(xlim=(-30, 30), ylim=(-30, 30))\n",
    "\n",
    "pts  = l\n",
    "\n",
    "patch = plt.Polygon(pts,closed=None, fill='r', edgecolor='r')\n",
    "\n",
    "plt.show()"
   ]
  },
  {
   "cell_type": "code",
   "execution_count": 49,
   "metadata": {
    "collapsed": false
   },
   "outputs": [
    {
     "ename": "AttributeError",
     "evalue": "'NoneType' object has no attribute 'set_x'",
     "output_type": "error",
     "traceback": [
      "\u001b[0;31m---------------------------------------------------------------------------\u001b[0m",
      "\u001b[0;31mAttributeError\u001b[0m                            Traceback (most recent call last)",
      "\u001b[0;32m/usr/local/lib/python2.7/site-packages/matplotlib/backend_bases.pyc\u001b[0m in \u001b[0;36mbutton_release_event\u001b[0;34m(self, x, y, button, guiEvent)\u001b[0m\n\u001b[1;32m   1908\u001b[0m         \u001b[0ms\u001b[0m \u001b[0;34m=\u001b[0m \u001b[0;34m'button_release_event'\u001b[0m\u001b[0;34m\u001b[0m\u001b[0m\n\u001b[1;32m   1909\u001b[0m         \u001b[0mevent\u001b[0m \u001b[0;34m=\u001b[0m \u001b[0mMouseEvent\u001b[0m\u001b[0;34m(\u001b[0m\u001b[0ms\u001b[0m\u001b[0;34m,\u001b[0m \u001b[0mself\u001b[0m\u001b[0;34m,\u001b[0m \u001b[0mx\u001b[0m\u001b[0;34m,\u001b[0m \u001b[0my\u001b[0m\u001b[0;34m,\u001b[0m \u001b[0mbutton\u001b[0m\u001b[0;34m,\u001b[0m \u001b[0mself\u001b[0m\u001b[0;34m.\u001b[0m\u001b[0m_key\u001b[0m\u001b[0;34m,\u001b[0m \u001b[0mguiEvent\u001b[0m\u001b[0;34m=\u001b[0m\u001b[0mguiEvent\u001b[0m\u001b[0;34m)\u001b[0m\u001b[0;34m\u001b[0m\u001b[0m\n\u001b[0;32m-> 1910\u001b[0;31m         \u001b[0mself\u001b[0m\u001b[0;34m.\u001b[0m\u001b[0mcallbacks\u001b[0m\u001b[0;34m.\u001b[0m\u001b[0mprocess\u001b[0m\u001b[0;34m(\u001b[0m\u001b[0ms\u001b[0m\u001b[0;34m,\u001b[0m \u001b[0mevent\u001b[0m\u001b[0;34m)\u001b[0m\u001b[0;34m\u001b[0m\u001b[0m\n\u001b[0m\u001b[1;32m   1911\u001b[0m         \u001b[0mself\u001b[0m\u001b[0;34m.\u001b[0m\u001b[0m_button\u001b[0m \u001b[0;34m=\u001b[0m \u001b[0mNone\u001b[0m\u001b[0;34m\u001b[0m\u001b[0m\n\u001b[1;32m   1912\u001b[0m \u001b[0;34m\u001b[0m\u001b[0m\n",
      "\u001b[0;32m/usr/local/lib/python2.7/site-packages/matplotlib/cbook.pyc\u001b[0m in \u001b[0;36mprocess\u001b[0;34m(self, s, *args, **kwargs)\u001b[0m\n\u001b[1;32m    538\u001b[0m                     \u001b[0;32mdel\u001b[0m \u001b[0mself\u001b[0m\u001b[0;34m.\u001b[0m\u001b[0mcallbacks\u001b[0m\u001b[0;34m[\u001b[0m\u001b[0ms\u001b[0m\u001b[0;34m]\u001b[0m\u001b[0;34m[\u001b[0m\u001b[0mcid\u001b[0m\u001b[0;34m]\u001b[0m\u001b[0;34m\u001b[0m\u001b[0m\n\u001b[1;32m    539\u001b[0m                 \u001b[0;32melse\u001b[0m\u001b[0;34m:\u001b[0m\u001b[0;34m\u001b[0m\u001b[0m\n\u001b[0;32m--> 540\u001b[0;31m                     \u001b[0mproxy\u001b[0m\u001b[0;34m(\u001b[0m\u001b[0;34m*\u001b[0m\u001b[0margs\u001b[0m\u001b[0;34m,\u001b[0m \u001b[0;34m**\u001b[0m\u001b[0mkwargs\u001b[0m\u001b[0;34m)\u001b[0m\u001b[0;34m\u001b[0m\u001b[0m\n\u001b[0m\u001b[1;32m    541\u001b[0m \u001b[0;34m\u001b[0m\u001b[0m\n\u001b[1;32m    542\u001b[0m \u001b[0;34m\u001b[0m\u001b[0m\n",
      "\u001b[0;32m/usr/local/lib/python2.7/site-packages/matplotlib/cbook.pyc\u001b[0m in \u001b[0;36m__call__\u001b[0;34m(self, *args, **kwargs)\u001b[0m\n\u001b[1;32m    413\u001b[0m             \u001b[0mmtd\u001b[0m \u001b[0;34m=\u001b[0m \u001b[0mself\u001b[0m\u001b[0;34m.\u001b[0m\u001b[0mfunc\u001b[0m\u001b[0;34m\u001b[0m\u001b[0m\n\u001b[1;32m    414\u001b[0m         \u001b[0;31m# invoke the callable and return the result\u001b[0m\u001b[0;34m\u001b[0m\u001b[0;34m\u001b[0m\u001b[0m\n\u001b[0;32m--> 415\u001b[0;31m         \u001b[0;32mreturn\u001b[0m \u001b[0mmtd\u001b[0m\u001b[0;34m(\u001b[0m\u001b[0;34m*\u001b[0m\u001b[0margs\u001b[0m\u001b[0;34m,\u001b[0m \u001b[0;34m**\u001b[0m\u001b[0mkwargs\u001b[0m\u001b[0;34m)\u001b[0m\u001b[0;34m\u001b[0m\u001b[0m\n\u001b[0m\u001b[1;32m    416\u001b[0m \u001b[0;34m\u001b[0m\u001b[0m\n\u001b[1;32m    417\u001b[0m     \u001b[0;32mdef\u001b[0m \u001b[0m__eq__\u001b[0m\u001b[0;34m(\u001b[0m\u001b[0mself\u001b[0m\u001b[0;34m,\u001b[0m \u001b[0mother\u001b[0m\u001b[0;34m)\u001b[0m\u001b[0;34m:\u001b[0m\u001b[0;34m\u001b[0m\u001b[0m\n",
      "\u001b[0;32m<ipython-input-49-1d39d170ff8c>\u001b[0m in \u001b[0;36mon_release\u001b[0;34m(event)\u001b[0m\n\u001b[1;32m     41\u001b[0m     \u001b[0my\u001b[0m\u001b[0;34m=\u001b[0m\u001b[0mevent\u001b[0m\u001b[0;34m.\u001b[0m\u001b[0mydata\u001b[0m\u001b[0;34m\u001b[0m\u001b[0m\n\u001b[1;32m     42\u001b[0m \u001b[0;34m\u001b[0m\u001b[0m\n\u001b[0;32m---> 43\u001b[0;31m     \u001b[0mrect\u001b[0m\u001b[0;34m.\u001b[0m\u001b[0mset_x\u001b[0m\u001b[0;34m(\u001b[0m\u001b[0mx\u001b[0m\u001b[0;34m)\u001b[0m\u001b[0;34m\u001b[0m\u001b[0m\n\u001b[0m\u001b[1;32m     44\u001b[0m     \u001b[0mrect\u001b[0m\u001b[0;34m.\u001b[0m\u001b[0mset_y\u001b[0m\u001b[0;34m(\u001b[0m\u001b[0my\u001b[0m\u001b[0;34m)\u001b[0m\u001b[0;34m\u001b[0m\u001b[0m\n\u001b[1;32m     45\u001b[0m \u001b[0;34m\u001b[0m\u001b[0m\n",
      "\u001b[0;31mAttributeError\u001b[0m: 'NoneType' object has no attribute 'set_x'"
     ]
    },
    {
     "ename": "AttributeError",
     "evalue": "'NoneType' object has no attribute 'set_x'",
     "output_type": "error",
     "traceback": [
      "\u001b[0;31m---------------------------------------------------------------------------\u001b[0m",
      "\u001b[0;31mAttributeError\u001b[0m                            Traceback (most recent call last)",
      "\u001b[0;32m/usr/local/lib/python2.7/site-packages/matplotlib/backend_bases.pyc\u001b[0m in \u001b[0;36mbutton_release_event\u001b[0;34m(self, x, y, button, guiEvent)\u001b[0m\n\u001b[1;32m   1908\u001b[0m         \u001b[0ms\u001b[0m \u001b[0;34m=\u001b[0m \u001b[0;34m'button_release_event'\u001b[0m\u001b[0;34m\u001b[0m\u001b[0m\n\u001b[1;32m   1909\u001b[0m         \u001b[0mevent\u001b[0m \u001b[0;34m=\u001b[0m \u001b[0mMouseEvent\u001b[0m\u001b[0;34m(\u001b[0m\u001b[0ms\u001b[0m\u001b[0;34m,\u001b[0m \u001b[0mself\u001b[0m\u001b[0;34m,\u001b[0m \u001b[0mx\u001b[0m\u001b[0;34m,\u001b[0m \u001b[0my\u001b[0m\u001b[0;34m,\u001b[0m \u001b[0mbutton\u001b[0m\u001b[0;34m,\u001b[0m \u001b[0mself\u001b[0m\u001b[0;34m.\u001b[0m\u001b[0m_key\u001b[0m\u001b[0;34m,\u001b[0m \u001b[0mguiEvent\u001b[0m\u001b[0;34m=\u001b[0m\u001b[0mguiEvent\u001b[0m\u001b[0;34m)\u001b[0m\u001b[0;34m\u001b[0m\u001b[0m\n\u001b[0;32m-> 1910\u001b[0;31m         \u001b[0mself\u001b[0m\u001b[0;34m.\u001b[0m\u001b[0mcallbacks\u001b[0m\u001b[0;34m.\u001b[0m\u001b[0mprocess\u001b[0m\u001b[0;34m(\u001b[0m\u001b[0ms\u001b[0m\u001b[0;34m,\u001b[0m \u001b[0mevent\u001b[0m\u001b[0;34m)\u001b[0m\u001b[0;34m\u001b[0m\u001b[0m\n\u001b[0m\u001b[1;32m   1911\u001b[0m         \u001b[0mself\u001b[0m\u001b[0;34m.\u001b[0m\u001b[0m_button\u001b[0m \u001b[0;34m=\u001b[0m \u001b[0mNone\u001b[0m\u001b[0;34m\u001b[0m\u001b[0m\n\u001b[1;32m   1912\u001b[0m \u001b[0;34m\u001b[0m\u001b[0m\n",
      "\u001b[0;32m/usr/local/lib/python2.7/site-packages/matplotlib/cbook.pyc\u001b[0m in \u001b[0;36mprocess\u001b[0;34m(self, s, *args, **kwargs)\u001b[0m\n\u001b[1;32m    538\u001b[0m                     \u001b[0;32mdel\u001b[0m \u001b[0mself\u001b[0m\u001b[0;34m.\u001b[0m\u001b[0mcallbacks\u001b[0m\u001b[0;34m[\u001b[0m\u001b[0ms\u001b[0m\u001b[0;34m]\u001b[0m\u001b[0;34m[\u001b[0m\u001b[0mcid\u001b[0m\u001b[0;34m]\u001b[0m\u001b[0;34m\u001b[0m\u001b[0m\n\u001b[1;32m    539\u001b[0m                 \u001b[0;32melse\u001b[0m\u001b[0;34m:\u001b[0m\u001b[0;34m\u001b[0m\u001b[0m\n\u001b[0;32m--> 540\u001b[0;31m                     \u001b[0mproxy\u001b[0m\u001b[0;34m(\u001b[0m\u001b[0;34m*\u001b[0m\u001b[0margs\u001b[0m\u001b[0;34m,\u001b[0m \u001b[0;34m**\u001b[0m\u001b[0mkwargs\u001b[0m\u001b[0;34m)\u001b[0m\u001b[0;34m\u001b[0m\u001b[0m\n\u001b[0m\u001b[1;32m    541\u001b[0m \u001b[0;34m\u001b[0m\u001b[0m\n\u001b[1;32m    542\u001b[0m \u001b[0;34m\u001b[0m\u001b[0m\n",
      "\u001b[0;32m/usr/local/lib/python2.7/site-packages/matplotlib/cbook.pyc\u001b[0m in \u001b[0;36m__call__\u001b[0;34m(self, *args, **kwargs)\u001b[0m\n\u001b[1;32m    413\u001b[0m             \u001b[0mmtd\u001b[0m \u001b[0;34m=\u001b[0m \u001b[0mself\u001b[0m\u001b[0;34m.\u001b[0m\u001b[0mfunc\u001b[0m\u001b[0;34m\u001b[0m\u001b[0m\n\u001b[1;32m    414\u001b[0m         \u001b[0;31m# invoke the callable and return the result\u001b[0m\u001b[0;34m\u001b[0m\u001b[0;34m\u001b[0m\u001b[0m\n\u001b[0;32m--> 415\u001b[0;31m         \u001b[0;32mreturn\u001b[0m \u001b[0mmtd\u001b[0m\u001b[0;34m(\u001b[0m\u001b[0;34m*\u001b[0m\u001b[0margs\u001b[0m\u001b[0;34m,\u001b[0m \u001b[0;34m**\u001b[0m\u001b[0mkwargs\u001b[0m\u001b[0;34m)\u001b[0m\u001b[0;34m\u001b[0m\u001b[0m\n\u001b[0m\u001b[1;32m    416\u001b[0m \u001b[0;34m\u001b[0m\u001b[0m\n\u001b[1;32m    417\u001b[0m     \u001b[0;32mdef\u001b[0m \u001b[0m__eq__\u001b[0m\u001b[0;34m(\u001b[0m\u001b[0mself\u001b[0m\u001b[0;34m,\u001b[0m \u001b[0mother\u001b[0m\u001b[0;34m)\u001b[0m\u001b[0;34m:\u001b[0m\u001b[0;34m\u001b[0m\u001b[0m\n",
      "\u001b[0;32m<ipython-input-49-1d39d170ff8c>\u001b[0m in \u001b[0;36mon_release\u001b[0;34m(event)\u001b[0m\n\u001b[1;32m     41\u001b[0m     \u001b[0my\u001b[0m\u001b[0;34m=\u001b[0m\u001b[0mevent\u001b[0m\u001b[0;34m.\u001b[0m\u001b[0mydata\u001b[0m\u001b[0;34m\u001b[0m\u001b[0m\n\u001b[1;32m     42\u001b[0m \u001b[0;34m\u001b[0m\u001b[0m\n\u001b[0;32m---> 43\u001b[0;31m     \u001b[0mrect\u001b[0m\u001b[0;34m.\u001b[0m\u001b[0mset_x\u001b[0m\u001b[0;34m(\u001b[0m\u001b[0mx\u001b[0m\u001b[0;34m)\u001b[0m\u001b[0;34m\u001b[0m\u001b[0m\n\u001b[0m\u001b[1;32m     44\u001b[0m     \u001b[0mrect\u001b[0m\u001b[0;34m.\u001b[0m\u001b[0mset_y\u001b[0m\u001b[0;34m(\u001b[0m\u001b[0my\u001b[0m\u001b[0;34m)\u001b[0m\u001b[0;34m\u001b[0m\u001b[0m\n\u001b[1;32m     45\u001b[0m \u001b[0;34m\u001b[0m\u001b[0m\n",
      "\u001b[0;31mAttributeError\u001b[0m: 'NoneType' object has no attribute 'set_x'"
     ]
    },
    {
     "ename": "KeyboardInterrupt",
     "evalue": "",
     "output_type": "error",
     "traceback": [
      "\u001b[0;31m---------------------------------------------------------------------------\u001b[0m",
      "\u001b[0;31mKeyboardInterrupt\u001b[0m                         Traceback (most recent call last)",
      "\u001b[0;32m/usr/local/lib/python2.7/site-packages/matplotlib/backends/backend_macosx.pyc\u001b[0m in \u001b[0;36mclose\u001b[0;34m(self)\u001b[0m\n\u001b[1;32m    380\u001b[0m             \u001b[0mself\u001b[0m\u001b[0;34m.\u001b[0m\u001b[0mshow\u001b[0m\u001b[0;34m(\u001b[0m\u001b[0;34m)\u001b[0m\u001b[0;34m\u001b[0m\u001b[0m\n\u001b[1;32m    381\u001b[0m \u001b[0;34m\u001b[0m\u001b[0m\n\u001b[0;32m--> 382\u001b[0;31m     \u001b[0;32mdef\u001b[0m \u001b[0mclose\u001b[0m\u001b[0;34m(\u001b[0m\u001b[0mself\u001b[0m\u001b[0;34m)\u001b[0m\u001b[0;34m:\u001b[0m\u001b[0;34m\u001b[0m\u001b[0m\n\u001b[0m\u001b[1;32m    383\u001b[0m         \u001b[0mGcf\u001b[0m\u001b[0;34m.\u001b[0m\u001b[0mdestroy\u001b[0m\u001b[0;34m(\u001b[0m\u001b[0mself\u001b[0m\u001b[0;34m.\u001b[0m\u001b[0mnum\u001b[0m\u001b[0;34m)\u001b[0m\u001b[0;34m\u001b[0m\u001b[0m\n\u001b[1;32m    384\u001b[0m \u001b[0;34m\u001b[0m\u001b[0m\n",
      "\u001b[0;31mKeyboardInterrupt\u001b[0m: "
     ]
    }
   ],
   "source": [
    "from matplotlib import pyplot as plt\n",
    "\n",
    "size=100\n",
    "\n",
    "p0 = (0,0)\n",
    "rect = None\n",
    "fig, ax=plt.subplots()\n",
    "press = False\n",
    "def onclick(event):\n",
    "    press = True\n",
    "    button=event.button\n",
    "    x=event.xdata\n",
    "    y=event.ydata\n",
    "\n",
    "    p0=(x,y)\n",
    "    rect = plt.Rectangle((x, y), .01, .01, fc='r')\n",
    "    rect = fig.gca().add_patch(rect)\n",
    "    fig.canvas.draw()\n",
    "    \n",
    "def on_motion(event):\n",
    "    'on motion we will move the rect if the mouse is over us'\n",
    "\n",
    "    if not press:\n",
    "        return\n",
    "    \n",
    "    print event.xdata\n",
    "    dx = event.xdata - p0[0]\n",
    "    dy = event.ydata - p0[1]\n",
    "    #print('x0=%f, xpress=%f, event.xdata=%f, dx=%f, x0+dx=%f' %\n",
    "    #      (x0, xpress, event.xdata, dx, x0+dx))\n",
    "    rect.set_x(x0+dx)\n",
    "    rect.set_y(y0+dy)\n",
    "\n",
    "    fig.figure.canvas.draw()\n",
    "    \n",
    "def on_release(event):\n",
    "    press=False\n",
    "    'on release we reset the press data'\n",
    "    \n",
    "    button=event.button\n",
    "    x=event.xdata\n",
    "    y=event.ydata\n",
    "\n",
    "    rect.set_x(x)\n",
    "    rect.set_y(y)\n",
    "\n",
    "    fig.figure.canvas.draw()\n",
    "\n",
    "\n",
    "#im = plt.imread('/Users/tuckerkirven/castIcon.jpg')\n",
    "\n",
    "#ax.imshow(im)\n",
    "#ax.autoscale(False)\n",
    "cidpress = fig.canvas.mpl_connect('button_press_event', onclick)\n",
    "cidmove = fig.canvas.mpl_connect('motion_notify_event', on_motion)\n",
    "cidrelease = fig.canvas.mpl_connect('button_release_event', on_release)\n",
    "\n",
    "plt.show()"
   ]
  },
  {
   "cell_type": "code",
   "execution_count": 44,
   "metadata": {
    "collapsed": false
   },
   "outputs": [
    {
     "ename": "AttributeError",
     "evalue": "'Figure' object has no attribute 'Rectangle'",
     "output_type": "error",
     "traceback": [
      "\u001b[0;31m---------------------------------------------------------------------------\u001b[0m",
      "\u001b[0;31mAttributeError\u001b[0m                            Traceback (most recent call last)",
      "\u001b[0;32m<ipython-input-44-925b0a73beb7>\u001b[0m in \u001b[0;36m<module>\u001b[0;34m()\u001b[0m\n\u001b[1;32m     67\u001b[0m \u001b[0max\u001b[0m \u001b[0;34m=\u001b[0m \u001b[0mfig\u001b[0m\u001b[0;34m.\u001b[0m\u001b[0madd_subplot\u001b[0m\u001b[0;34m(\u001b[0m\u001b[0;36m111\u001b[0m\u001b[0;34m)\u001b[0m\u001b[0;34m\u001b[0m\u001b[0m\n\u001b[1;32m     68\u001b[0m \u001b[0;31m#rect = ax.bar(range(10), 20*np.random.rand(10))\u001b[0m\u001b[0;34m\u001b[0m\u001b[0;34m\u001b[0m\u001b[0m\n\u001b[0;32m---> 69\u001b[0;31m \u001b[0mrect\u001b[0m\u001b[0;34m=\u001b[0m\u001b[0mfig\u001b[0m\u001b[0;34m.\u001b[0m\u001b[0mRectangle\u001b[0m\u001b[0;34m(\u001b[0m\u001b[0;34m(\u001b[0m\u001b[0;36m0\u001b[0m\u001b[0;34m,\u001b[0m \u001b[0;36m0\u001b[0m\u001b[0;34m)\u001b[0m\u001b[0;34m,\u001b[0m \u001b[0;36m1\u001b[0m\u001b[0;34m,\u001b[0m\u001b[0;36m1\u001b[0m\u001b[0;34m,\u001b[0m \u001b[0mfc\u001b[0m\u001b[0;34m=\u001b[0m\u001b[0;34m'b'\u001b[0m\u001b[0;34m)\u001b[0m\u001b[0;34m\u001b[0m\u001b[0m\n\u001b[0m\u001b[1;32m     70\u001b[0m \u001b[0mdrs\u001b[0m \u001b[0;34m=\u001b[0m \u001b[0;34m[\u001b[0m\u001b[0;34m]\u001b[0m\u001b[0;34m\u001b[0m\u001b[0m\n\u001b[1;32m     71\u001b[0m \u001b[0;34m\u001b[0m\u001b[0m\n",
      "\u001b[0;31mAttributeError\u001b[0m: 'Figure' object has no attribute 'Rectangle'"
     ]
    }
   ],
   "source": [
    "import numpy as np\n",
    "import matplotlib.pyplot as plt\n",
    "\n",
    "class DraggableRectangle:\n",
    "    def __init__(self, rect):\n",
    "        self.rect = rect\n",
    "        self.press = None\n",
    "        self.p0 = None\n",
    "\n",
    "    def connect(self):\n",
    "        'connect to all the events we need'\n",
    "        self.cidpress = self.rect.figure.canvas.mpl_connect(\n",
    "            'button_press_event', self.on_press)\n",
    "        self.cidrelease = self.rect.figure.canvas.mpl_connect(\n",
    "            'button_release_event', self.on_release)\n",
    "        self.cidmotion = self.rect.figure.canvas.mpl_connect(\n",
    "            'motion_notify_event', self.on_motion)\n",
    "\n",
    "    def on_press(self, event):\n",
    "        'on button press we will see if the mouse is over us and store some data'\n",
    "        if event.inaxes != self.rect.axes: return\n",
    "\n",
    "        contains, attrd = self.rect.contains(event)\n",
    "        if not contains:\n",
    "            _.p0 = (event.xdata,event.ydata)\n",
    "            return\n",
    "            \n",
    "        print('event contains', self.rect.xy)\n",
    "        x0, y0 = self.rect.xy\n",
    "        self.press = x0, y0, event.xdata, event.ydata\n",
    "\n",
    "    def on_motion(self, event):\n",
    "        'on motion we will move the rect if the mouse is over us'\n",
    "        if self.press is None: return\n",
    "        if event.inaxes != self.rect.axes: return\n",
    "        x0, y0, xpress, ypress = self.press\n",
    "        dx = event.xdata - xpress\n",
    "        dy = event.ydata - ypress\n",
    "        #print('x0=%f, xpress=%f, event.xdata=%f, dx=%f, x0+dx=%f' %\n",
    "        #      (x0, xpress, event.xdata, dx, x0+dx))\n",
    "        self.rect.set_x(x0+dx)\n",
    "        self.rect.set_y(y0+dy)\n",
    "\n",
    "        self.rect.figure.canvas.draw()\n",
    "\n",
    "\n",
    "    def on_release(self, event):\n",
    "        'on release we reset the press data'\n",
    "        self.press = None\n",
    "        button=event.button\n",
    "        x=event.xdata\n",
    "        y=event.ydata\n",
    "\n",
    "        rectangle = plt.Rectangle(_.p0, x-_.p0[0], y-_.p0[1], fc='b')\n",
    "    \n",
    "        dr = DraggableRectangle(rectangle)\n",
    "        dr.connect()\n",
    "        self.rect.figure.canvas.draw()\n",
    "\n",
    "    def disconnect(self):\n",
    "        'disconnect all the stored connection ids'\n",
    "        self.rect.figure.canvas.mpl_disconnect(self.cidpress)\n",
    "        self.rect.figure.canvas.mpl_disconnect(self.cidrelease)\n",
    "        self.rect.figure.canvas.mpl_disconnect(self.cidmotion)\n",
    "\n",
    "fig = plt.figure()\n",
    "ax = fig.add_subplot(111)\n",
    "#rect = ax.bar(range(10), 20*np.random.rand(10))\n",
    "rect=fig.Rectangle((0, 0), 1,1, fc='b')\n",
    "drs = []\n",
    "\n",
    "dr = DraggableRectangle(rect)\n",
    "dr.connect()\n",
    "\n",
    "\n",
    "plt.show()"
   ]
  },
  {
   "cell_type": "code",
   "execution_count": 31,
   "metadata": {
    "collapsed": true
   },
   "outputs": [],
   "source": [
    "rect=plt.Rectangle((0, 0), 1,1, fc='b')"
   ]
  },
  {
   "cell_type": "code",
   "execution_count": 32,
   "metadata": {
    "collapsed": false
   },
   "outputs": [
    {
     "data": {
      "text/plain": [
       "<bound method Rectangle.draw of <matplotlib.patches.Rectangle object at 0x10d0ae590>>"
      ]
     },
     "execution_count": 32,
     "metadata": {},
     "output_type": "execute_result"
    }
   ],
   "source": [
    "rect.draw"
   ]
  },
  {
   "cell_type": "code",
   "execution_count": 87,
   "metadata": {
    "collapsed": false
   },
   "outputs": [
    {
     "name": "stdout",
     "output_type": "stream",
     "text": [
      "press\n",
      "release\n",
      "press\n",
      "release\n",
      "press\n",
      "release\n",
      "press\n",
      "release\n"
     ]
    }
   ],
   "source": [
    "import matplotlib.pyplot as plt\n",
    "from matplotlib.patches import Rectangle\n",
    "\n",
    "class Annotate(object):\n",
    "    def __init__(self):\n",
    "        self.rects = []\n",
    "        self.ax = plt.gca()\n",
    "        self.rect = Rectangle((0,0), 10, 10, fill=None)\n",
    "        self.new_rect = None\n",
    "        self.x0 = None\n",
    "        self.y0 = None\n",
    "        self.x1 = None\n",
    "        self.y1 = None\n",
    "        self.press = None\n",
    "        self.ax.add_patch(self.rect)\n",
    "        self.ax.figure.canvas.mpl_connect('button_press_event', self.on_press)\n",
    "        self.ax.figure.canvas.mpl_connect('button_release_event', self.on_release)\n",
    "        self.ax.figure.canvas.mpl_connect('motion_notify_event', self.on_motion)\n",
    "\n",
    "    def on_press(self, event):\n",
    "        print 'press'\n",
    "        self.new_rect = self.rect.copy()\n",
    "        self.rects.append(self.new_rect)\n",
    "        self.x0 = event.xdata\n",
    "        self.y0 = event.ydata\n",
    "        self.rect.set_width(.00)\n",
    "        self.rect.set_height(.00)\n",
    "        x,y = self.rect.xy\n",
    "        self.press = x, y, event.xdata, event.ydata\n",
    "        self.ax.figure.canvas.draw()\n",
    "\n",
    "    def on_release(self, event):\n",
    "        self.press = None\n",
    "        print 'release'\n",
    "        self.x1 = event.xdata\n",
    "        self.y1 = event.ydata\n",
    "        self.rect.set_width(self.x1 - self.x0)\n",
    "        self.rect.set_height(self.y1 - self.y0)\n",
    "        self.rect.set_xy((self.x0, self.y0))\n",
    "        self.ax.figure.canvas.draw()\n",
    "        \n",
    "    def on_motion(self, event):\n",
    "\n",
    "\n",
    "        'on motion we will move the rect if the mouse is over us'\n",
    "        #if self.press is None: return\n",
    "        #if event.inaxes != self.rect.axes: return\n",
    "\n",
    "        if self.press == None:\n",
    "            return \n",
    "        \n",
    "        self.x1 = event.xdata\n",
    "        self.y1 = event.ydata\n",
    "        self.rect.set_width(self.x1 - self.x0)\n",
    "        self.rect.set_height(self.y1 - self.y0)\n",
    "        self.rect.set_xy((self.x0, self.y0))\n",
    "\n",
    "        self.ax.figure.canvas.draw()\n",
    "\n",
    "a = Annotate()\n",
    "plt.show()"
   ]
  },
  {
   "cell_type": "code",
   "execution_count": 415,
   "metadata": {
    "collapsed": false
   },
   "outputs": [],
   "source": [
    "import yaml\n",
    "from yaml import load, dump\n",
    "try:\n",
    "    from yaml import CLoader as Loader, CDumper as Dumper\n",
    "except ImportError:\n",
    "    from yaml import Loader, Dumper\n",
    "\n",
    "class create_env:\n",
    "    def __init__(_, env):\n",
    "        _.press=None\n",
    "        _.x0 = None\n",
    "        _.y0 = None\n",
    "        _.x1 = None\n",
    "        _.y1 = None\n",
    "        _.goal=None\n",
    "        _.objects = []\n",
    "        _.cur_obj = None\n",
    "        _.fig = env.fig\n",
    "        _.ax = env.ax \n",
    "        _.start_loc = (0,0)\n",
    "        _.fig.canvas.mpl_connect('button_press_event', _.on_click)\n",
    "        _.fig.canvas.mpl_connect('button_release_event', _.on_release)\n",
    "        _.fig.canvas.mpl_connect('motion_notify_event', _.on_motion)\n",
    "    \n",
    "        _.fig.canvas.mpl_connect('key_press_event', _.key_press)\n",
    "\n",
    "        _.fig.title = \"dont draw outside the white!\"\n",
    "    \n",
    "        _.bounds = [env.width, env.height]\n",
    "        border_w = env.width*.2\n",
    "        border_h = env.height*.2\n",
    "        _.ax.set_autoscale_on(False)\n",
    "        _.ax.axis([0-border_w,env.width+border_w,0-border_h,env.height+border_h])\n",
    "        _.fig.gca().add_patch(env.bounds.draw_obj())\n",
    "        \n",
    "        _.key='r'\n",
    "        _.label='Rectangle Draw'\n",
    "        _.fig.suptitle(_.label, fontsize=20)\n",
    "\n",
    "        \n",
    "        plt.show()\n",
    "    def on_click(_, event):\n",
    "        _.x0 = event.xdata\n",
    "        _.y0 = event.ydata\n",
    "        \n",
    "        if _.key == 'r':\n",
    "            _.cur_obj = Rectangle((_.x0,_.y0), 0, 0)\n",
    "            _.ax.add_patch(_.cur_obj)\n",
    "\n",
    "           \n",
    "        \n",
    "        if _.key == 'i':\n",
    "            _.cur_obj = plt.Line2D((0,0), (0, 0), lw=2)\n",
    "            _.ax.add_line(_.cur_obj)\n",
    "            pass\n",
    "        \n",
    "        if _.key == 'g':\n",
    "            _.cur_obj = plt.Circle((_.x0, _.y0), 0, fc='g')\n",
    "            _.ax.add_patch(_.cur_obj)\n",
    "            pass\n",
    "        \n",
    "        if _.key == 'x':\n",
    "            start_loc = (_.x0, _.y0)\n",
    "            plt.plot(_.x0,_.y0,'ro')\n",
    "        _.press = event.xdata, event.ydata\n",
    "        \n",
    "        _.ax.figure.canvas.draw()\n",
    "    \n",
    "    def on_release(_, event):\n",
    "        _.press = None\n",
    "        \n",
    "        _.x1 = event.xdata\n",
    "        _.y1 = event.ydata\n",
    "        \n",
    "        if _.key =='r':\n",
    "\n",
    "            _.cur_obj.set_width(_.x1 - _.x0)\n",
    "            _.cur_obj.set_height(_.y1 - _.y0)\n",
    "            _.cur_obj.set_xy((_.x0, _.y0))\n",
    "            _.objects.append(('rectangle',_.cur_obj))\n",
    "\n",
    "        if _.key == 'i':\n",
    "\n",
    "            _.cur_obj.set_data((_.x0,_.x1), (_.y0,_.y1))\n",
    "            _.objects.append(('line',_.cur_obj))\n",
    "        \n",
    "        if _.key == 'g':\n",
    "            rad = np.linalg.norm(np.array([_.x1,_.y1])- np.array([_.x0,_.y0]))\n",
    "            _.cur_obj.set_radius(rad)\n",
    "            del _.goal\n",
    "            _.goal = _.cur_obj\n",
    "            pass\n",
    "\n",
    "        _.ax.figure.canvas.draw()\n",
    "        \n",
    "\n",
    "    def on_motion(_, event):\n",
    "        if _.press == None:\n",
    "            return \n",
    "        _.x1 = event.xdata\n",
    "        _.y1 = event.ydata\n",
    "        if _.key =='r':\n",
    "\n",
    "            _.cur_obj.set_width(_.x1 - _.x0)\n",
    "            _.cur_obj.set_height(_.y1 - _.y0)\n",
    "            _.cur_obj.set_xy((_.x0, _.y0))\n",
    "    \n",
    "        if _.key == 'i':\n",
    "\n",
    "            _.cur_obj.set_data((_.x0,_.x1), (_.y0,_.y1))\n",
    "        \n",
    "        if _.key == 'g':\n",
    "            rad = np.linalg.norm(np.array([_.x1,_.y1])- np.array([_.x0,_.y0]))\n",
    "            _.cur_obj.set_radius(rad)\n",
    "            pass\n",
    "\n",
    "        _.ax.figure.canvas.draw()\n",
    "        \n",
    "\n",
    "    def key_press(_, event):\n",
    "       \n",
    "        if  event.key not in ['r','i','g', 'a', 'x'] or _.press!=None:\n",
    "            return\n",
    "        \n",
    "        _.key = event.key\n",
    "            \n",
    "        if _.key == 'r':\n",
    "            _.label = 'Rectangle Draw'\n",
    "        if _.key == 'g':\n",
    "            _.label = 'Place Goal'\n",
    "        if _.key == 'i':\n",
    "            _.label = 'Line Draw'\n",
    "        if _.key == 'x':\n",
    "            _.label = 'Agent Start Location'\n",
    "        if _.key =='a':\n",
    "            _.save_env()\n",
    "            \n",
    "        _.fig.suptitle(_.label, fontsize=20)\n",
    "        _.ax.figure.canvas.draw()\n",
    "        pass\n",
    "    def save_env(_):\n",
    "        plan = {'bounds':None, \n",
    "               'objects':[],\n",
    "               'goal':{'origin':None, 'radius':None},\n",
    "               'agent_start':None}\n",
    "        \n",
    "        plan['bounds'] = _.bounds\n",
    "        if _.goal:\n",
    "            plan['goal']['origin'] = [float(_.goal.center[0]), float(_.goal.center[1])]\n",
    "            plan['goal']['radius'] = float(_.goal.radius)\n",
    "        if _.start_loc:\n",
    "            plan['agent_start'] = list(_.start_loc)\n",
    "            \n",
    "        for obj_type, obj in _.objects:\n",
    "        \n",
    "            o={obj_type:{}}\n",
    "            if obj_type == 'rectangle':\n",
    "                o[obj_type]['origin'] = [float(obj.xy[0]), float(obj.xy[1])]\n",
    "                o[obj_type]['origin'] = [float(obj.get_width()), float(obj.get_height())]\n",
    "\n",
    "            if obj_type == 'line':\n",
    "                p1, p2 = zip(*obj.get_data())\n",
    "                p1 = [float(p1[0]), float(p1[1])]\n",
    "                p2 = [float(p2[0]), float(p2[1])]\n",
    "                o[obj_type]['p0']=p1\n",
    "                o[obj_type]['p1']=p2\n",
    "                \n",
    "            plan['objects'].append(o)\n",
    "                \n",
    "        output = dump(plan, Dumper=Dumper)\n",
    "        print output\n",
    "        with open('data.yml', 'w') as outfile:\n",
    "            yaml.dump(plan, outfile, default_flow_style=False)"
   ]
  },
  {
   "cell_type": "code",
   "execution_count": null,
   "metadata": {
    "collapsed": false
   },
   "outputs": [],
   "source": [
    "import env\n",
    "reload(env)\n",
    "import agent\n",
    "reload(agent)\n",
    "import sensors\n",
    "reload(sensors)\n",
    "import brain\n",
    "reload(brain)\n",
    "\n",
    "\n",
    "a = env.env(10,10)"
   ]
  },
  {
   "cell_type": "code",
   "execution_count": null,
   "metadata": {
    "collapsed": false
   },
   "outputs": [
    {
     "name": "stdout",
     "output_type": "stream",
     "text": [
      "agent_start: [0, 0]\n",
      "bounds: [10, 10]\n",
      "goal:\n",
      "  origin: [7.794354838709678, 7.807291666666667]\n",
      "  radius: 0.7480069852974878\n",
      "objects:\n",
      "- rectangle:\n",
      "    origin: [-2.822580645161291, 2.223958333333332]\n",
      "- line:\n",
      "    p0: [2.205645161290323, 7.588541666666667]\n",
      "    p1: [6.495967741935484, 6.749999999999999]\n",
      "\n",
      "agent_start: [0, 0]\n",
      "bounds: [10, 10]\n",
      "goal:\n",
      "  origin: [7.794354838709678, 7.807291666666667]\n",
      "  radius: 0.7480069852974878\n",
      "objects:\n",
      "- rectangle:\n",
      "    origin: [-2.822580645161291, 2.223958333333332]\n",
      "- line:\n",
      "    p0: [2.205645161290323, 7.588541666666667]\n",
      "    p1: [6.495967741935484, 6.749999999999999]\n"
     ]
    }
   ],
   "source": [
    "create_env(a)"
   ]
  },
  {
   "cell_type": "code",
   "execution_count": 393,
   "metadata": {
    "collapsed": false,
    "scrolled": true
   },
   "outputs": [],
   "source": [
    "f=open('./data.yml')\n",
    "plan = yaml.load(f)"
   ]
  },
  {
   "cell_type": "code",
   "execution_count": 394,
   "metadata": {
    "collapsed": false
   },
   "outputs": [
    {
     "name": "stdout",
     "output_type": "stream",
     "text": [
      "{'objects': [{'rectangle': {'origin': [-2.1733870967741939, -2.5520833333333339]}}, {'rectangle': {'origin': [-1.778225806451613, 0.65625]}}, {'rectangle': {'origin': [1.157258064516129, -1.458333333333333]}}, {'rectangle': {'origin': [-1.637096774193548, 1.8593750000000009]}}, {'line': {'points': [(7.2016129032258061, 7.661458333333333), (9.2338709677419359, 4.088541666666667)]}}], 'bounds': [10, 10], 'goal': {'origin': [4.8588709677419359, 8.5364583333333321], 'radius': 0.78382835963898012}, 'agent_start': [0, 0]}\n"
     ]
    }
   ],
   "source": [
    "print plan"
   ]
  },
  {
   "cell_type": "code",
   "execution_count": 355,
   "metadata": {
    "collapsed": false
   },
   "outputs": [],
   "source": [
    "circle = plt.Circle((0, 0), radius=1, fc='y')\n",
    "circle.set_radius(2)"
   ]
  },
  {
   "cell_type": "code",
   "execution_count": 333,
   "metadata": {
    "collapsed": false
   },
   "outputs": [
    {
     "ename": "TypeError",
     "evalue": "'NoneType' object is not callable",
     "output_type": "error",
     "traceback": [
      "\u001b[0;31m---------------------------------------------------------------------------\u001b[0m",
      "\u001b[0;31mTypeError\u001b[0m                                 Traceback (most recent call last)",
      "\u001b[0;32m<ipython-input-333-506b1278221c>\u001b[0m in \u001b[0;36m<module>\u001b[0;34m()\u001b[0m\n\u001b[0;32m----> 1\u001b[0;31m \u001b[0mcircle\u001b[0m\u001b[0;34m.\u001b[0m\u001b[0mfigure\u001b[0m\u001b[0;34m(\u001b[0m\u001b[0;34m)\u001b[0m\u001b[0;34m\u001b[0m\u001b[0m\n\u001b[0m",
      "\u001b[0;31mTypeError\u001b[0m: 'NoneType' object is not callable"
     ]
    }
   ],
   "source": [
    "circle."
   ]
  },
  {
   "cell_type": "code",
   "execution_count": 329,
   "metadata": {
    "collapsed": false
   },
   "outputs": [
    {
     "data": {
      "text/plain": [
       "(0, 0)"
      ]
     },
     "execution_count": 329,
     "metadata": {},
     "output_type": "execute_result"
    }
   ],
   "source": [
    "circle.radius\n",
    "circle.center"
   ]
  },
  {
   "cell_type": "code",
   "execution_count": 226,
   "metadata": {
    "collapsed": false
   },
   "outputs": [
    {
     "data": {
      "text/plain": [
       "2.8284271247461903"
      ]
     },
     "execution_count": 226,
     "metadata": {},
     "output_type": "execute_result"
    }
   ],
   "source": [
    "np.linalg.norm(np.[2,2])-np.array([4,4]))"
   ]
  },
  {
   "cell_type": "code",
   "execution_count": 230,
   "metadata": {
    "collapsed": false
   },
   "outputs": [],
   "source": [
    "a=1"
   ]
  },
  {
   "cell_type": "code",
   "execution_count": 340,
   "metadata": {
    "collapsed": false
   },
   "outputs": [],
   "source": [
    "a = plt.Line2D((0, 1), (0, 1), lw=3)"
   ]
  },
  {
   "cell_type": "code",
   "execution_count": 344,
   "metadata": {
    "collapsed": false
   },
   "outputs": [
    {
     "data": {
      "text/plain": [
       "[(0, 0), (1, 1)]"
      ]
     },
     "execution_count": 344,
     "metadata": {},
     "output_type": "execute_result"
    }
   ],
   "source": [
    "zip(*a.get_data())"
   ]
  },
  {
   "cell_type": "code",
   "execution_count": 270,
   "metadata": {
    "collapsed": false
   },
   "outputs": [],
   "source": [
    "plt.gca().add_line(a)\n",
    "plt.axis('scaled')\n",
    "plt.show()"
   ]
  },
  {
   "cell_type": "code",
   "execution_count": 398,
   "metadata": {
    "collapsed": true
   },
   "outputs": [],
   "source": [
    "plan = {'a':[1.2342342354888888852341231234234, -1.23424323]}\n",
    "with open('data.yml', 'w') as outfile:\n",
    "            yaml.dump(plan, outfile, default_flow_style=False)"
   ]
  },
  {
   "cell_type": "code",
   "execution_count": 408,
   "metadata": {
    "collapsed": false
   },
   "outputs": [
    {
     "ename": "TypeError",
     "evalue": "float() takes at most 1 argument (2 given)",
     "output_type": "error",
     "traceback": [
      "\u001b[0;31m---------------------------------------------------------------------------\u001b[0m",
      "\u001b[0;31mTypeError\u001b[0m                                 Traceback (most recent call last)",
      "\u001b[0;32m<ipython-input-408-cf8c07371634>\u001b[0m in \u001b[0;36m<module>\u001b[0;34m()\u001b[0m\n\u001b[0;32m----> 1\u001b[0;31m \u001b[0mfloat\u001b[0m\u001b[0;34m(\u001b[0m\u001b[0;34m*\u001b[0m\u001b[0mplan\u001b[0m\u001b[0;34m[\u001b[0m\u001b[0;34m'a'\u001b[0m\u001b[0;34m]\u001b[0m\u001b[0;34m)\u001b[0m\u001b[0;34m\u001b[0m\u001b[0m\n\u001b[0m",
      "\u001b[0;31mTypeError\u001b[0m: float() takes at most 1 argument (2 given)"
     ]
    }
   ],
   "source": [
    "float(*plan['a'])"
   ]
  },
  {
   "cell_type": "code",
   "execution_count": null,
   "metadata": {
    "collapsed": true
   },
   "outputs": [],
   "source": []
  }
 ],
 "metadata": {
  "kernelspec": {
   "display_name": "Python 2",
   "language": "python",
   "name": "python2"
  },
  "language_info": {
   "codemirror_mode": {
    "name": "ipython",
    "version": 2
   },
   "file_extension": ".py",
   "mimetype": "text/x-python",
   "name": "python",
   "nbconvert_exporter": "python",
   "pygments_lexer": "ipython2",
   "version": "2.7.12"
  }
 },
 "nbformat": 4,
 "nbformat_minor": 0
}
